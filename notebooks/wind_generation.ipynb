{
  "nbformat": 4,
  "nbformat_minor": 0,
  "metadata": {
    "colab": {
      "name": "Generazione Eolica.ipynb",
      "provenance": [],
      "collapsed_sections": [
        "q0GTT6fexgbi",
        "6s6JkXOcxjIC",
        "VP-ohVdu2eiq",
        "hYBTVVslDcLb",
        "ONoQoEZ2DgyQ",
        "L-BbpOA-Q3lb",
        "Y10rFl1XFfq6",
        "W4rIYYXUQ-UY",
        "Up0TJ92mQt3p",
        "eSWwxpdoSEKY"
      ]
    },
    "kernelspec": {
      "name": "python3",
      "display_name": "Python 3"
    }
  },
  "cells": [
    {
      "cell_type": "markdown",
      "metadata": {
        "id": "q0GTT6fexgbi",
        "colab_type": "text"
      },
      "source": [
        "## Import Section"
      ]
    },
    {
      "cell_type": "code",
      "metadata": {
        "id": "pN49gttjxSKz",
        "colab_type": "code",
        "colab": {}
      },
      "source": [
        "from pprint import pprint\n",
        "\n",
        "import datetime\n",
        "import logging\n",
        "import os\n",
        "import random\n",
        "import sys\n",
        "import time\n"
      ],
      "execution_count": 1,
      "outputs": []
    },
    {
      "cell_type": "code",
      "metadata": {
        "id": "IQkuSgzwxGmR",
        "colab_type": "code",
        "colab": {}
      },
      "source": [
        "import numpy as np\n",
        "import pandas as pd\n",
        "import sklearn"
      ],
      "execution_count": 2,
      "outputs": []
    },
    {
      "cell_type": "code",
      "metadata": {
        "id": "cr1Zdm_0HcTX",
        "colab_type": "code",
        "colab": {}
      },
      "source": [
        "from sklearn.preprocessing import StandardScaler"
      ],
      "execution_count": 3,
      "outputs": []
    },
    {
      "cell_type": "code",
      "metadata": {
        "id": "0LVpYBwADQk-",
        "colab_type": "code",
        "colab": {
          "base_uri": "https://localhost:8080/",
          "height": 71
        },
        "outputId": "33311c1f-47be-4d7b-e7c6-1dc8084b84d9"
      },
      "source": [
        "import matplotlib.pyplot as plt\n",
        "import seaborn as sns; sns.set()"
      ],
      "execution_count": 4,
      "outputs": [
        {
          "output_type": "stream",
          "text": [
            "/usr/local/lib/python3.6/dist-packages/statsmodels/tools/_testing.py:19: FutureWarning: pandas.util.testing is deprecated. Use the functions in the public API at pandas.testing instead.\n",
            "  import pandas.util.testing as tm\n"
          ],
          "name": "stderr"
        }
      ]
    },
    {
      "cell_type": "markdown",
      "metadata": {
        "id": "6s6JkXOcxjIC",
        "colab_type": "text"
      },
      "source": [
        "## Global Variables & Major Setting Section"
      ]
    },
    {
      "cell_type": "code",
      "metadata": {
        "id": "JoblNZUtxqXH",
        "colab_type": "code",
        "colab": {}
      },
      "source": [
        "SEED = 42\n",
        "random.seed(SEED)\n",
        "np.random.seed(seed=SEED)"
      ],
      "execution_count": 5,
      "outputs": []
    },
    {
      "cell_type": "code",
      "metadata": {
        "id": "xU3ax5lt5NWE",
        "colab_type": "code",
        "colab": {}
      },
      "source": [
        "N = 100"
      ],
      "execution_count": 6,
      "outputs": []
    },
    {
      "cell_type": "markdown",
      "metadata": {
        "id": "VP-ohVdu2eiq",
        "colab_type": "text"
      },
      "source": [
        "### Setup Debugger & Logger"
      ]
    },
    {
      "cell_type": "code",
      "metadata": {
        "id": "GOszsp7e2n2Y",
        "colab_type": "code",
        "colab": {}
      },
      "source": [
        "# FORMAT = '%(asctime)-15s %(message)s'\n",
        "FORMAT = '%(message)s'\n",
        "logging.basicConfig(format=FORMAT)\n",
        "\n",
        "console = logging.StreamHandler()\n",
        "console.setLevel(logging.DEBUG)\n",
        "\n",
        "formatter = logging.Formatter('%(name)-12s: %(levelname)-8s %(message)s')\n",
        "console.setFormatter(formatter)\n",
        "\n",
        "logging.getLogger('').addHandler(console)"
      ],
      "execution_count": 7,
      "outputs": []
    },
    {
      "cell_type": "markdown",
      "metadata": {
        "id": "QDcb8H9n2frr",
        "colab_type": "text"
      },
      "source": [
        "### Input Data"
      ]
    },
    {
      "cell_type": "code",
      "metadata": {
        "id": "lgxOHlhtzoE-",
        "colab_type": "code",
        "colab": {}
      },
      "source": [
        "U_nom = 690  # Volt\n",
        "R_stat = 0.009 # Ohm\n",
        "R_rot = 0.008  # Ohm\n",
        "R_app = 0.017  # Ohm\n",
        "X_Dsr = 0.068  # Ohm\n",
        "s = -0.13\n",
        "\n",
        "var_names = \"U_nom,R_stat,R_rot,R_app,X_Dsr\".split(',')\n",
        "var_unit_measures = \"Volt,Ohm,Ohm,Ohm,Ohm\".split(',')\n",
        "var_uim_dict = dict(zip(var_names, var_unit_measures))\n",
        "\n",
        "result_names = \"It,P_jrot,P_jstat,P_gbe,P_mecc\".split(',')\n",
        "result_unit_measures = \"Ampere,Watt,Watt,Watt,Watt\".split(',')\n",
        "res_uim_dict = dict(zip(result_names, result_unit_measures))"
      ],
      "execution_count": 8,
      "outputs": []
    },
    {
      "cell_type": "markdown",
      "metadata": {
        "id": "oPfUV2jSyBsM",
        "colab_type": "text"
      },
      "source": [
        "## Functions Section"
      ]
    },
    {
      "cell_type": "markdown",
      "metadata": {
        "id": "hYBTVVslDcLb",
        "colab_type": "text"
      },
      "source": [
        "### Computation Functions"
      ]
    },
    {
      "cell_type": "code",
      "metadata": {
        "id": "hdm0daT9yD-D",
        "colab_type": "code",
        "colab": {}
      },
      "source": [
        "def compute_It_by_row(vector: np.ndarray) -> float:\n",
        "    U_nom, R_stat, R_rot, R_app, s, X_Dsr = vector\n",
        "    return compute_It(U_nom, R_stat, R_rot, R_app, s, X_Dsr)\n",
        "\n",
        "def compute_It_by_X(X: np.ndarray) -> float:\n",
        "    U_nom, R_stat, R_rot, R_app, s, X_Dsr = X[:, 0], X[:, 1], X[:, 2], X[:, 3], X[:, 4], X[:, 5]\n",
        "\n",
        "    assert all(xi < 0 for xi in s), \"Error input argument 's' was greater than zero\"\n",
        "    \n",
        "    # Compute Numerator\n",
        "    numerator = U_nom / np.sqrt(3)\n",
        "\n",
        "    # Compute Denominator\n",
        "    d1 = np.power(R_stat + (R_rot+R_app)/s, 2)\n",
        "    d2 = np.power(X_Dsr, 2)\n",
        "    denominator = np.sqrt(d1 + d2)\n",
        "\n",
        "    try:\n",
        "        # Return result\n",
        "        return numerator / denominator\n",
        "    except Exception as err:\n",
        "        # Manage Division by Zero Exception\n",
        "        print(str(err), file=sys.stderr)\n",
        "        sys.exit(-1)\n",
        "        pass\n",
        "\n",
        "def compute_It(U_nom: float, R_stat: float, R_rot: float, R_app: float, s: float, X_Dsr: float) -> float:\n",
        "\n",
        "    assert s < 0, \"Error input argument 's' was greater than zero\"\n",
        "\n",
        "    # Compute Numerator\n",
        "    numerator = U_nom / np.sqrt(3)\n",
        "\n",
        "    # Compute Denominator\n",
        "    d1 = np.power(R_stat + (R_rot+R_app)/s, 2)\n",
        "    d2 = np.power(X_Dsr, 2)\n",
        "    denominator = np.sqrt(d1 + d2)\n",
        "\n",
        "    # pprint([numerator, denominator, d1, d2])\n",
        "    logging.debug([numerator, denominator, d1, d2])\n",
        "    try:\n",
        "        # Return result\n",
        "        return numerator / denominator\n",
        "    except Exception as err:\n",
        "        # Manage Division by Zero Exception\n",
        "        print(str(err), file=sys.stderr)\n",
        "        sys.exit(-1)\n",
        "        pass\n",
        "    pass"
      ],
      "execution_count": 9,
      "outputs": []
    },
    {
      "cell_type": "code",
      "metadata": {
        "id": "lYKfjybqRkJJ",
        "colab_type": "code",
        "colab": {}
      },
      "source": [
        "def compute_Power_by_X(X: np.ndarray) -> np.ndarray:\n",
        "        \n",
        "    R, It = X[:, 0], X[:, 1]\n",
        "\n",
        "    assert all(xi < 0 for xi in s), \"Error input argument 's' was greater than zero\"\n",
        "\n",
        "    try:\n",
        "        # Return result\n",
        "        return 3 * R * It ** 2\n",
        "    except Exception as err:\n",
        "        # Manage Division by Zero Exception\n",
        "        print(str(err), file=sys.stderr)\n",
        "        sys.exit(-1)\n",
        "        pass\n",
        "    pass\n",
        "\n",
        "def compute_Power_by_V(R: np.ndarray, It: np.ndarray) -> np.ndarray:\n",
        "    assert s < 0, \"Error input argument 's' was greater than zero\"\n",
        "\n",
        "    try:\n",
        "        # Return result\n",
        "        return 3 * R * It ** 2\n",
        "    except Exception as err:\n",
        "        # Manage Division by Zero Exception\n",
        "        print(str(err), file=sys.stderr)\n",
        "        sys.exit(-1)\n",
        "        pass\n",
        "    pass\n",
        "\n",
        "def compute_Power(R_stat: float, R_rot: float, s: float, It: float) -> float:\n",
        "\n",
        "    try:\n",
        "        # Return result\n",
        "        return 3 * R * It ** 2\n",
        "    except Exception as err:\n",
        "        # Manage Division by Zero Exception\n",
        "        print(str(err), file=sys.stderr)\n",
        "        sys.exit(-1)\n",
        "        pass\n",
        "    pass"
      ],
      "execution_count": 10,
      "outputs": []
    },
    {
      "cell_type": "code",
      "metadata": {
        "id": "-EmRVWFwLg6r",
        "colab_type": "code",
        "colab": {}
      },
      "source": [
        "def compute_P_gap_by_X(X: np.ndarray) -> np.ndarray:\n",
        "        \n",
        "    R_stat, R_rot, s, It = X[:, 0], X[:, 1], X[:, 2], X[:, 3]\n",
        "\n",
        "    assert all(xi < 0 for xi in s), \"Error input argument 's' was greater than zero\"\n",
        "\n",
        "    try:\n",
        "        # Return result\n",
        "        return 3 / s * (R_rot+R_app) * It ** 2\n",
        "    except Exception as err:\n",
        "        # Manage Division by Zero Exception\n",
        "        print(str(err), file=sys.stderr)\n",
        "        sys.exit(-1)\n",
        "        pass\n",
        "    pass\n",
        "\n",
        "def compute_P_gap_by_V(R_stat: np.ndarray, R_rot: np.ndarray, s: np.ndarray, It: np.ndarray) -> np.ndarray:\n",
        "    assert s < 0, \"Error input argument 's' was greater than zero\"\n",
        "\n",
        "    try:\n",
        "        # Return result\n",
        "        return 3 / s * (R_rot+R_app) * It ** 2\n",
        "    except Exception as err:\n",
        "        # Manage Division by Zero Exception\n",
        "        print(str(err), file=sys.stderr)\n",
        "        sys.exit(-1)\n",
        "        pass\n",
        "    pass\n",
        "\n",
        "def compute_P_gap(R_stat: float, R_rot: float, s: float, It: float) -> float:\n",
        "    assert s < 0, \"Error input argument 's' was greater than zero\"\n",
        "\n",
        "    try:\n",
        "        # Return result\n",
        "        return 3 / s * (R_rot+R_app) * It ** 2\n",
        "    except Exception as err:\n",
        "        # Manage Division by Zero Exception\n",
        "        print(str(err), file=sys.stderr)\n",
        "        sys.exit(-1)\n",
        "        pass\n",
        "    pass"
      ],
      "execution_count": 11,
      "outputs": []
    },
    {
      "cell_type": "code",
      "metadata": {
        "id": "NH5Wf4PPRKxP",
        "colab_type": "code",
        "colab": {}
      },
      "source": [
        "def compute_P_mecc_by_X(X: np.ndarray) -> np.ndarray:\n",
        "        \n",
        "    R_stat, R_rot, s, It = X[:, 0], X[:, 1], X[:, 2], X[:, 3]\n",
        "\n",
        "    assert all(xi < 0 for xi in s), \"Error input argument 's' was greater than zero\"\n",
        "\n",
        "    try:\n",
        "        # Return result\n",
        "        return 3 * ((1-s) / s) * (R_rot+R_app) * It ** 2\n",
        "    except Exception as err:\n",
        "        # Manage Division by Zero Exception\n",
        "        print(str(err), file=sys.stderr)\n",
        "        sys.exit(-1)\n",
        "        pass\n",
        "    pass\n",
        "\n",
        "def compute_P_mecc_by_V(R_stat: np.ndarray, R_rot: np.ndarray, s: np.ndarray, It: np.ndarray) -> np.ndarray:\n",
        "    assert s < 0, \"Error input argument 's' was greater than zero\"\n",
        "\n",
        "    try:\n",
        "        # Return result\n",
        "        return 3 * ((1-s) / s) * (R_rot+R_app) * It ** 2\n",
        "    except Exception as err:\n",
        "        # Manage Division by Zero Exception\n",
        "        print(str(err), file=sys.stderr)\n",
        "        sys.exit(-1)\n",
        "        pass\n",
        "    pass\n",
        "\n",
        "def compute_P_mecc(R_stat: float, R_rot: float, s: float, It: float) -> float:\n",
        "    assert s < 0, \"Error input argument 's' was greater than zero\"\n",
        "\n",
        "    try:\n",
        "        # Return result\n",
        "        return 3 * ((1-s) / s) * (R_rot+R_app) * It ** 2\n",
        "    except Exception as err:\n",
        "        # Manage Division by Zero Exception\n",
        "        print(str(err), file=sys.stderr)\n",
        "        sys.exit(-1)\n",
        "        pass\n",
        "    pass"
      ],
      "execution_count": 12,
      "outputs": []
    },
    {
      "cell_type": "markdown",
      "metadata": {
        "id": "Tqlr8sMCLbO1",
        "colab_type": "text"
      },
      "source": [
        "### Create Toy Examples"
      ]
    },
    {
      "cell_type": "code",
      "metadata": {
        "id": "Ar_ed2oY5URu",
        "colab_type": "code",
        "colab": {}
      },
      "source": [
        "def create_data_matrix_old(rows: int, cols: int, U_nom: float, R_stat: float, R_rot: float, R_app: float, s: float, X_Dsr: float) -> np.ndarray:\n",
        "    \n",
        "    assert rows > 0, \"Number of rows must be strictly greater than zero\"\n",
        "    assert cols > 0, \"Number of columns must be strictly greater than zero\"\n",
        "\n",
        "    deltas_list = [2*1e+2, 2*1e-3, 2*1e-3, 2*1e-3, -1*1e-1, 1e-3]\n",
        "\n",
        "    U_nom_v = np.linspace(start=U_nom, stop=(U_nom+deltas_list[0]), num=rows, endpoint=True, retstep=False, dtype=None, axis=0)\n",
        "    R_stat_v = np.linspace(start=R_stat, stop=(R_stat+deltas_list[1]), num=rows, endpoint=True, retstep=False, dtype=None, axis=0)\n",
        "    R_rot_v = np.linspace(start=R_rot, stop=(R_rot+deltas_list[2]), num=rows, endpoint=True, retstep=False, dtype=None, axis=0)\n",
        "    R_app_v = np.linspace(start=R_app, stop=(R_app+deltas_list[3]), num=rows, endpoint=True, retstep=False, dtype=None, axis=0)\n",
        "    s_v = np.linspace(start=s, stop=(s+deltas_list[4]), num=rows, endpoint=True, retstep=False, dtype=None, axis=0)\n",
        "    X_Dsr_v = np.linspace(start=X_Dsr, stop=(X_Dsr+deltas_list[5]), num=rows, endpoint=True, retstep=False, dtype=None, axis=0)\n",
        "\n",
        "    res = np.concatenate((U_nom_v, R_stat_v, R_rot_v, R_app_v, s_v, X_Dsr_v))\n",
        "    assert len(res) == rows * cols\n",
        "\n",
        "    X = np.zeros((rows, cols))\n",
        "    for ii in range(cols):\n",
        "        X[:, ii] = res[ii*rows:(ii+1)*rows]\n",
        "    return X"
      ],
      "execution_count": 13,
      "outputs": []
    },
    {
      "cell_type": "code",
      "metadata": {
        "id": "VxhD1uJ5pkru",
        "colab_type": "code",
        "colab": {}
      },
      "source": [
        "def create_data_matrix_new(rows: int, cols: int, U_nom: float, R_stat: float, R_rot: float, R_app: float, s: float, X_Dsr: float, deltas_list: list = None) -> np.ndarray:\n",
        "    \n",
        "    assert rows > 0, \"Number of rows must be strictly greater than zero\"\n",
        "    assert cols > 0, \"Number of columns must be strictly greater than zero\"\n",
        "    \n",
        "    if deltas_list is None:\n",
        "        deltas_list = [2*1e+2, 2*1e-3, 2*1e-3, 2*1e-3, -1*1e-1, 1e-3]\n",
        "    else:\n",
        "        assert len(deltas_list) == cols, \"deltas_list and number of columns mismatch\"\n",
        "        pass\n",
        "\n",
        "    variables = [U_nom, R_stat, R_rot, R_app, s, X_Dsr]\n",
        "    pairs_var_delta = list(zip(variables, deltas_list))\n",
        "    \n",
        "    X = np.zeros((rows, cols))\n",
        "    for ii, (var, delta_var) in enumerate(pairs_var_delta):\n",
        "        X[:, ii] = np.linspace(start=var, stop=(var+delta_var), num=rows, endpoint=True, retstep=False, dtype=None, axis=0)\n",
        "    return X\n",
        "\n",
        "def create_data_matrix(rows: int, cols: int, U_nom: float, R_stat: float, R_rot: float, R_app: float, s: float, X_Dsr: float, deltas_list=None, old_version: bool = False) -> np.ndarray:\n",
        "    if old_version is True:\n",
        "        return create_data_matrix_old(rows, cols, U_nom, R_stat, R_rot, R_app, s, X_Dsr)\n",
        "\n",
        "    return create_data_matrix_new(rows, cols, U_nom, R_stat, R_rot, R_app, s, X_Dsr, deltas_list)"
      ],
      "execution_count": 14,
      "outputs": []
    },
    {
      "cell_type": "markdown",
      "metadata": {
        "id": "ONoQoEZ2DgyQ",
        "colab_type": "text"
      },
      "source": [
        "### Plot Functions"
      ]
    },
    {
      "cell_type": "code",
      "metadata": {
        "id": "XmTDf4BMDbMy",
        "colab_type": "code",
        "colab": {}
      },
      "source": [
        "def plot_x_vs_y_scatter(x, y):\n",
        "    fig = plt.figure()\n",
        "    ax = fig.add_subplot(111)\n",
        "    ax.plot(x, y, color='lightblue', linewidth=3)\n",
        "    ax.scatter(x, y, color='darkgreen', marker='^')\n",
        "    # ax.set_xlim(0.5, 4.5)\n",
        "    plt.show()\n",
        "    pass"
      ],
      "execution_count": 15,
      "outputs": []
    },
    {
      "cell_type": "markdown",
      "metadata": {
        "id": "nsCxL1EKz8aY",
        "colab_type": "text"
      },
      "source": [
        "## Calculations"
      ]
    },
    {
      "cell_type": "markdown",
      "metadata": {
        "id": "L-BbpOA-Q3lb",
        "colab_type": "text"
      },
      "source": [
        "### Compute $I_{t}$"
      ]
    },
    {
      "cell_type": "code",
      "metadata": {
        "id": "gXK3ySdZz735",
        "colab_type": "code",
        "colab": {
          "base_uri": "https://localhost:8080/",
          "height": 34
        },
        "outputId": "37230f4f-3948-46dd-924a-6ee100bf4f0c"
      },
      "source": [
        "It = compute_It(U_nom, R_stat, R_rot, R_app, s, X_Dsr)\n",
        "print(\"%.2f %s\" % (It, res_uim_dict['It']))"
      ],
      "execution_count": 16,
      "outputs": [
        {
          "output_type": "stream",
          "text": [
            "2037.56 Ampere\n"
          ],
          "name": "stdout"
        }
      ]
    },
    {
      "cell_type": "code",
      "metadata": {
        "id": "y75euQLi4a4b",
        "colab_type": "code",
        "colab": {}
      },
      "source": [
        "# np.linspace(start, stop, num=N, endpoint=True, retstep=False, dtype=None, axis=0)\n",
        "rows, cols = N, 6\n",
        "X = create_data_matrix(rows=rows, cols=cols, U_nom=U_nom, R_stat=R_stat, R_rot=R_rot, R_app=R_app, s=s, X_Dsr=X_Dsr)"
      ],
      "execution_count": 17,
      "outputs": []
    },
    {
      "cell_type": "code",
      "metadata": {
        "id": "oeBUV5e79R6S",
        "colab_type": "code",
        "colab": {
          "base_uri": "https://localhost:8080/",
          "height": 204
        },
        "outputId": "194a349f-9fde-4c22-e924-15e7b5fc7d6c"
      },
      "source": [
        "cols_X = \"U_nom,R_stat,R_rot,R_app,s,X_Dsr\".split(',')\n",
        "df_X = pd.DataFrame(data=X, columns=cols_X)\n",
        "\n",
        "df_X.head()"
      ],
      "execution_count": 18,
      "outputs": [
        {
          "output_type": "execute_result",
          "data": {
            "text/html": [
              "<div>\n",
              "<style scoped>\n",
              "    .dataframe tbody tr th:only-of-type {\n",
              "        vertical-align: middle;\n",
              "    }\n",
              "\n",
              "    .dataframe tbody tr th {\n",
              "        vertical-align: top;\n",
              "    }\n",
              "\n",
              "    .dataframe thead th {\n",
              "        text-align: right;\n",
              "    }\n",
              "</style>\n",
              "<table border=\"1\" class=\"dataframe\">\n",
              "  <thead>\n",
              "    <tr style=\"text-align: right;\">\n",
              "      <th></th>\n",
              "      <th>U_nom</th>\n",
              "      <th>R_stat</th>\n",
              "      <th>R_rot</th>\n",
              "      <th>R_app</th>\n",
              "      <th>s</th>\n",
              "      <th>X_Dsr</th>\n",
              "    </tr>\n",
              "  </thead>\n",
              "  <tbody>\n",
              "    <tr>\n",
              "      <th>0</th>\n",
              "      <td>690.000000</td>\n",
              "      <td>0.009000</td>\n",
              "      <td>0.008000</td>\n",
              "      <td>0.017000</td>\n",
              "      <td>-0.13000</td>\n",
              "      <td>0.06800</td>\n",
              "    </tr>\n",
              "    <tr>\n",
              "      <th>1</th>\n",
              "      <td>692.020202</td>\n",
              "      <td>0.009020</td>\n",
              "      <td>0.008020</td>\n",
              "      <td>0.017020</td>\n",
              "      <td>-0.13101</td>\n",
              "      <td>0.06801</td>\n",
              "    </tr>\n",
              "    <tr>\n",
              "      <th>2</th>\n",
              "      <td>694.040404</td>\n",
              "      <td>0.009040</td>\n",
              "      <td>0.008040</td>\n",
              "      <td>0.017040</td>\n",
              "      <td>-0.13202</td>\n",
              "      <td>0.06802</td>\n",
              "    </tr>\n",
              "    <tr>\n",
              "      <th>3</th>\n",
              "      <td>696.060606</td>\n",
              "      <td>0.009061</td>\n",
              "      <td>0.008061</td>\n",
              "      <td>0.017061</td>\n",
              "      <td>-0.13303</td>\n",
              "      <td>0.06803</td>\n",
              "    </tr>\n",
              "    <tr>\n",
              "      <th>4</th>\n",
              "      <td>698.080808</td>\n",
              "      <td>0.009081</td>\n",
              "      <td>0.008081</td>\n",
              "      <td>0.017081</td>\n",
              "      <td>-0.13404</td>\n",
              "      <td>0.06804</td>\n",
              "    </tr>\n",
              "  </tbody>\n",
              "</table>\n",
              "</div>"
            ],
            "text/plain": [
              "        U_nom    R_stat     R_rot     R_app        s    X_Dsr\n",
              "0  690.000000  0.009000  0.008000  0.017000 -0.13000  0.06800\n",
              "1  692.020202  0.009020  0.008020  0.017020 -0.13101  0.06801\n",
              "2  694.040404  0.009040  0.008040  0.017040 -0.13202  0.06802\n",
              "3  696.060606  0.009061  0.008061  0.017061 -0.13303  0.06803\n",
              "4  698.080808  0.009081  0.008081  0.017081 -0.13404  0.06804"
            ]
          },
          "metadata": {
            "tags": []
          },
          "execution_count": 18
        }
      ]
    },
    {
      "cell_type": "code",
      "metadata": {
        "id": "-LWPB_KcA2qE",
        "colab_type": "code",
        "colab": {
          "base_uri": "https://localhost:8080/",
          "height": 442
        },
        "outputId": "d1b18e61-e98f-4c55-fb49-968996f17d4d"
      },
      "source": [
        "# np.apply_along_axis(compute_It_by_row, 1, X)\n",
        "It_v = compute_It_by_X(X)\n",
        "\n",
        "# plot_x_vs_y_scatter(X[:,0], It_v)\n",
        "It_v"
      ],
      "execution_count": 19,
      "outputs": [
        {
          "output_type": "execute_result",
          "data": {
            "text/plain": [
              "array([2037.56129691, 2055.25795206, 2072.9684845 , 2090.69266515,\n",
              "       2108.43026763, 2126.18106822, 2143.94484584, 2161.72138201,\n",
              "       2179.51046085, 2197.31186901, 2215.12539571, 2232.95083263,\n",
              "       2250.78797397, 2268.63661635, 2286.49655884, 2304.36760291,\n",
              "       2322.24955239, 2340.14221349, 2358.04539473, 2375.95890695,\n",
              "       2393.88256323, 2411.81617896, 2429.75957172, 2447.71256131,\n",
              "       2465.67496971, 2483.64662107, 2501.62734167, 2519.61695989,\n",
              "       2537.61530622, 2555.62221321, 2573.63751545, 2591.66104955,\n",
              "       2609.69265414, 2627.7321698 , 2645.77943908, 2663.83430648,\n",
              "       2681.89661837, 2699.96622305, 2718.04297068, 2736.12671327,\n",
              "       2754.21730464, 2772.31460044, 2790.4184581 , 2808.52873681,\n",
              "       2826.64529752, 2844.76800291, 2862.89671733, 2881.03130687,\n",
              "       2899.17163926, 2917.31758388, 2935.46901174, 2953.62579546,\n",
              "       2971.78780928, 2989.95492897, 3008.12703189, 3026.30399693,\n",
              "       3044.48570449, 3062.67203648, 3080.8628763 , 3099.05810881,\n",
              "       3117.25762032, 3135.46129858, 3153.66903275, 3171.88071339,\n",
              "       3190.09623245, 3208.31548324, 3226.53836042, 3244.76475999,\n",
              "       3262.99457927, 3281.22771687, 3299.4640727 , 3317.70354795,\n",
              "       3335.94604504, 3354.19146766, 3372.43972071, 3390.6907103 ,\n",
              "       3408.94434375, 3427.20052956, 3445.4591774 , 3463.72019809,\n",
              "       3481.98350358, 3500.24900698, 3518.51662248, 3536.78626539,\n",
              "       3555.05785209, 3573.33130005, 3591.6065278 , 3609.8834549 ,\n",
              "       3628.16200196, 3646.4420906 , 3664.72364347, 3683.0065842 ,\n",
              "       3701.2908374 , 3719.57632867, 3737.86298456, 3756.15073256,\n",
              "       3774.43950113, 3792.72921962, 3811.01981831, 3829.31122838])"
            ]
          },
          "metadata": {
            "tags": []
          },
          "execution_count": 19
        }
      ]
    },
    {
      "cell_type": "code",
      "metadata": {
        "id": "xcDRC-MkDOYG",
        "colab_type": "code",
        "colab": {
          "base_uri": "https://localhost:8080/",
          "height": 204
        },
        "outputId": "d25ffbbd-07df-4034-939f-4443fd5ec0ab"
      },
      "source": [
        "df_It = pd.DataFrame(data=It_v[:, np.newaxis], columns=['It'])\n",
        "df_X_It = pd.concat([df_X, df_It], axis=1)\n",
        "\n",
        "df_X_It.head()"
      ],
      "execution_count": 20,
      "outputs": [
        {
          "output_type": "execute_result",
          "data": {
            "text/html": [
              "<div>\n",
              "<style scoped>\n",
              "    .dataframe tbody tr th:only-of-type {\n",
              "        vertical-align: middle;\n",
              "    }\n",
              "\n",
              "    .dataframe tbody tr th {\n",
              "        vertical-align: top;\n",
              "    }\n",
              "\n",
              "    .dataframe thead th {\n",
              "        text-align: right;\n",
              "    }\n",
              "</style>\n",
              "<table border=\"1\" class=\"dataframe\">\n",
              "  <thead>\n",
              "    <tr style=\"text-align: right;\">\n",
              "      <th></th>\n",
              "      <th>U_nom</th>\n",
              "      <th>R_stat</th>\n",
              "      <th>R_rot</th>\n",
              "      <th>R_app</th>\n",
              "      <th>s</th>\n",
              "      <th>X_Dsr</th>\n",
              "      <th>It</th>\n",
              "    </tr>\n",
              "  </thead>\n",
              "  <tbody>\n",
              "    <tr>\n",
              "      <th>0</th>\n",
              "      <td>690.000000</td>\n",
              "      <td>0.009000</td>\n",
              "      <td>0.008000</td>\n",
              "      <td>0.017000</td>\n",
              "      <td>-0.13000</td>\n",
              "      <td>0.06800</td>\n",
              "      <td>2037.561297</td>\n",
              "    </tr>\n",
              "    <tr>\n",
              "      <th>1</th>\n",
              "      <td>692.020202</td>\n",
              "      <td>0.009020</td>\n",
              "      <td>0.008020</td>\n",
              "      <td>0.017020</td>\n",
              "      <td>-0.13101</td>\n",
              "      <td>0.06801</td>\n",
              "      <td>2055.257952</td>\n",
              "    </tr>\n",
              "    <tr>\n",
              "      <th>2</th>\n",
              "      <td>694.040404</td>\n",
              "      <td>0.009040</td>\n",
              "      <td>0.008040</td>\n",
              "      <td>0.017040</td>\n",
              "      <td>-0.13202</td>\n",
              "      <td>0.06802</td>\n",
              "      <td>2072.968484</td>\n",
              "    </tr>\n",
              "    <tr>\n",
              "      <th>3</th>\n",
              "      <td>696.060606</td>\n",
              "      <td>0.009061</td>\n",
              "      <td>0.008061</td>\n",
              "      <td>0.017061</td>\n",
              "      <td>-0.13303</td>\n",
              "      <td>0.06803</td>\n",
              "      <td>2090.692665</td>\n",
              "    </tr>\n",
              "    <tr>\n",
              "      <th>4</th>\n",
              "      <td>698.080808</td>\n",
              "      <td>0.009081</td>\n",
              "      <td>0.008081</td>\n",
              "      <td>0.017081</td>\n",
              "      <td>-0.13404</td>\n",
              "      <td>0.06804</td>\n",
              "      <td>2108.430268</td>\n",
              "    </tr>\n",
              "  </tbody>\n",
              "</table>\n",
              "</div>"
            ],
            "text/plain": [
              "        U_nom    R_stat     R_rot     R_app        s    X_Dsr           It\n",
              "0  690.000000  0.009000  0.008000  0.017000 -0.13000  0.06800  2037.561297\n",
              "1  692.020202  0.009020  0.008020  0.017020 -0.13101  0.06801  2055.257952\n",
              "2  694.040404  0.009040  0.008040  0.017040 -0.13202  0.06802  2072.968484\n",
              "3  696.060606  0.009061  0.008061  0.017061 -0.13303  0.06803  2090.692665\n",
              "4  698.080808  0.009081  0.008081  0.017081 -0.13404  0.06804  2108.430268"
            ]
          },
          "metadata": {
            "tags": []
          },
          "execution_count": 20
        }
      ]
    },
    {
      "cell_type": "markdown",
      "metadata": {
        "id": "Y10rFl1XFfq6",
        "colab_type": "text"
      },
      "source": [
        "### Show Results $I_{t}$"
      ]
    },
    {
      "cell_type": "code",
      "metadata": {
        "id": "Z4mZLjMtHRoO",
        "colab_type": "code",
        "colab": {
          "base_uri": "https://localhost:8080/",
          "height": 0
        },
        "outputId": "a94b6a4f-961f-4669-ba92-f9362fae55d9"
      },
      "source": [
        "data = df_X_It.values\n",
        "scaler = StandardScaler()\n",
        "print(scaler.fit(data))\n",
        "\n",
        "print(scaler.mean_)\n",
        "\n",
        "data_rescaled = scaler.transform(data)\n",
        "df_X_It_rescaled = pd.DataFrame(data=data_rescaled, columns=df_X_It.columns)"
      ],
      "execution_count": 21,
      "outputs": [
        {
          "output_type": "stream",
          "text": [
            "StandardScaler(copy=True, with_mean=True, with_std=True)\n",
            "[ 7.90000000e+02  1.00000000e-02  9.00000000e-03  1.80000000e-02\n",
            " -1.80000000e-01  6.85000000e-02  2.92873437e+03]\n"
          ],
          "name": "stdout"
        }
      ]
    },
    {
      "cell_type": "code",
      "metadata": {
        "id": "sdxB4xtpF-CZ",
        "colab_type": "code",
        "colab": {}
      },
      "source": [
        "# g = sns.pairplot(df_X_It_rescaled, diag_kind=\"kde\", markers=\"+\", \\\n",
        "#    plot_kws=dict(s=50, edgecolor=\"b\", linewidth=1), \\\n",
        "#    diag_kws=dict(shade=True))"
      ],
      "execution_count": 22,
      "outputs": []
    },
    {
      "cell_type": "code",
      "metadata": {
        "id": "_Pg7xw57FgCL",
        "colab_type": "code",
        "colab": {}
      },
      "source": [
        "# g = sns.pairplot(df_X_It_rescaled, kind=\"reg\")"
      ],
      "execution_count": 23,
      "outputs": []
    },
    {
      "cell_type": "code",
      "metadata": {
        "id": "L3N41KvOFGaz",
        "colab_type": "code",
        "colab": {}
      },
      "source": [
        "# g = sns.pairplot(df_X_It_rescaled, corner=True)"
      ],
      "execution_count": 24,
      "outputs": []
    },
    {
      "cell_type": "markdown",
      "metadata": {
        "id": "W4rIYYXUQ-UY",
        "colab_type": "text"
      },
      "source": [
        "### Compute $P_{mecc}$"
      ]
    },
    {
      "cell_type": "code",
      "metadata": {
        "id": "U_q9LcUkM-MA",
        "colab_type": "code",
        "colab": {}
      },
      "source": [
        "target_cols = 'R_stat,R_rot,s,It'.split(',')\n",
        "X_mecc = df_X_It[target_cols].values\n",
        "Pmecc_v = compute_P_mecc_by_X(X=X_mecc)"
      ],
      "execution_count": 25,
      "outputs": []
    },
    {
      "cell_type": "code",
      "metadata": {
        "id": "kdRWtxIsOGnv",
        "colab_type": "code",
        "colab": {
          "base_uri": "https://localhost:8080/",
          "height": 0
        },
        "outputId": "df876715-0c4c-46b6-c11c-a998940cdfd9"
      },
      "source": [
        "df_Pmecc = pd.DataFrame(data=Pmecc_v[:, np.newaxis], columns=['Pmecc'])\n",
        "df_It = pd.DataFrame(data=It_v[:, np.newaxis], columns=['It'])\n",
        "df_results = pd.concat([df_It, df_Pmecc], axis=1)\n",
        "\n",
        "df_results.head()"
      ],
      "execution_count": 26,
      "outputs": [
        {
          "output_type": "execute_result",
          "data": {
            "text/html": [
              "<div>\n",
              "<style scoped>\n",
              "    .dataframe tbody tr th:only-of-type {\n",
              "        vertical-align: middle;\n",
              "    }\n",
              "\n",
              "    .dataframe tbody tr th {\n",
              "        vertical-align: top;\n",
              "    }\n",
              "\n",
              "    .dataframe thead th {\n",
              "        text-align: right;\n",
              "    }\n",
              "</style>\n",
              "<table border=\"1\" class=\"dataframe\">\n",
              "  <thead>\n",
              "    <tr style=\"text-align: right;\">\n",
              "      <th></th>\n",
              "      <th>It</th>\n",
              "      <th>Pmecc</th>\n",
              "    </tr>\n",
              "  </thead>\n",
              "  <tbody>\n",
              "    <tr>\n",
              "      <th>0</th>\n",
              "      <td>2037.561297</td>\n",
              "      <td>-2.706560e+06</td>\n",
              "    </tr>\n",
              "    <tr>\n",
              "      <th>1</th>\n",
              "      <td>2055.257952</td>\n",
              "      <td>-2.737199e+06</td>\n",
              "    </tr>\n",
              "    <tr>\n",
              "      <th>2</th>\n",
              "      <td>2072.968484</td>\n",
              "      <td>-2.767972e+06</td>\n",
              "    </tr>\n",
              "    <tr>\n",
              "      <th>3</th>\n",
              "      <td>2090.692665</td>\n",
              "      <td>-2.798879e+06</td>\n",
              "    </tr>\n",
              "    <tr>\n",
              "      <th>4</th>\n",
              "      <td>2108.430268</td>\n",
              "      <td>-2.829919e+06</td>\n",
              "    </tr>\n",
              "  </tbody>\n",
              "</table>\n",
              "</div>"
            ],
            "text/plain": [
              "            It         Pmecc\n",
              "0  2037.561297 -2.706560e+06\n",
              "1  2055.257952 -2.737199e+06\n",
              "2  2072.968484 -2.767972e+06\n",
              "3  2090.692665 -2.798879e+06\n",
              "4  2108.430268 -2.829919e+06"
            ]
          },
          "metadata": {
            "tags": []
          },
          "execution_count": 26
        }
      ]
    },
    {
      "cell_type": "code",
      "metadata": {
        "id": "ytfCNpxNPkjX",
        "colab_type": "code",
        "colab": {
          "base_uri": "https://localhost:8080/",
          "height": 0
        },
        "outputId": "80988406-52f2-4b7b-bdb6-2844a00e2e4a"
      },
      "source": [
        "data = df_results.values\n",
        "scaler = StandardScaler()\n",
        "print(scaler.fit(data))\n",
        "\n",
        "print(scaler.mean_)\n",
        "\n",
        "data_rescaled = scaler.transform(data)\n",
        "df_results_rescaled = pd.DataFrame(data=data_rescaled, columns=df_results.columns)"
      ],
      "execution_count": 27,
      "outputs": [
        {
          "output_type": "stream",
          "text": [
            "StandardScaler(copy=True, with_mean=True, with_std=True)\n",
            "[ 2.92873437e+03 -4.42998513e+06]\n"
          ],
          "name": "stdout"
        }
      ]
    },
    {
      "cell_type": "markdown",
      "metadata": {
        "id": "Up0TJ92mQt3p",
        "colab_type": "text"
      },
      "source": [
        "### Show Results $P_{mecc}$"
      ]
    },
    {
      "cell_type": "code",
      "metadata": {
        "id": "WAR01iEcQEYU",
        "colab_type": "code",
        "colab": {}
      },
      "source": [
        "# g = sns.pairplot(df_results_rescaled, diag_kind=\"kde\", markers=\"+\", \\\n",
        "#    plot_kws=dict(s=50, edgecolor=\"b\", linewidth=1), \\\n",
        "#    diag_kws=dict(shade=True))"
      ],
      "execution_count": 28,
      "outputs": []
    },
    {
      "cell_type": "code",
      "metadata": {
        "id": "f93Tmzl6Pqrb",
        "colab_type": "code",
        "colab": {}
      },
      "source": [
        " # g = sns.pairplot(df_results_rescaled, kind=\"reg\")"
      ],
      "execution_count": 29,
      "outputs": []
    },
    {
      "cell_type": "code",
      "metadata": {
        "id": "0zIcwdzGP-ir",
        "colab_type": "code",
        "colab": {}
      },
      "source": [
        "# g = sns.pairplot(df_results_rescaled, corner=True)"
      ],
      "execution_count": 30,
      "outputs": []
    },
    {
      "cell_type": "markdown",
      "metadata": {
        "id": "eSWwxpdoSEKY",
        "colab_type": "text"
      },
      "source": [
        "### Compute $P_{gap}$"
      ]
    },
    {
      "cell_type": "code",
      "metadata": {
        "id": "LrnSs8XeSDTo",
        "colab_type": "code",
        "colab": {}
      },
      "source": [
        "target_cols = 'R_stat,R_rot,s,It'.split(',')\n",
        "X_gap = df_X_It[target_cols].values\n",
        "P_gap_v = compute_P_gap_by_X(X=X_mecc)"
      ],
      "execution_count": 31,
      "outputs": []
    },
    {
      "cell_type": "code",
      "metadata": {
        "id": "DoBz947dSYid",
        "colab_type": "code",
        "colab": {
          "base_uri": "https://localhost:8080/",
          "height": 204
        },
        "outputId": "c7e75c05-5da8-4782-b285-ada9c876293f"
      },
      "source": [
        "df_P_gap_v = pd.DataFrame(data=P_gap_v[:, np.newaxis], columns=['P_gap'])\n",
        "df_It = pd.DataFrame(data=It_v[:, np.newaxis], columns=['It'])\n",
        "\n",
        "# df_results = pd.concat([df_It, df_P_gap_v], axis=1)\n",
        "df_X_gap = df_X_It[target_cols]\n",
        "df_results = pd.concat([df_X_gap, df_P_gap_v], axis=1)\n",
        "\n",
        "df_results.head()"
      ],
      "execution_count": 32,
      "outputs": [
        {
          "output_type": "execute_result",
          "data": {
            "text/html": [
              "<div>\n",
              "<style scoped>\n",
              "    .dataframe tbody tr th:only-of-type {\n",
              "        vertical-align: middle;\n",
              "    }\n",
              "\n",
              "    .dataframe tbody tr th {\n",
              "        vertical-align: top;\n",
              "    }\n",
              "\n",
              "    .dataframe thead th {\n",
              "        text-align: right;\n",
              "    }\n",
              "</style>\n",
              "<table border=\"1\" class=\"dataframe\">\n",
              "  <thead>\n",
              "    <tr style=\"text-align: right;\">\n",
              "      <th></th>\n",
              "      <th>R_stat</th>\n",
              "      <th>R_rot</th>\n",
              "      <th>s</th>\n",
              "      <th>It</th>\n",
              "      <th>P_gap</th>\n",
              "    </tr>\n",
              "  </thead>\n",
              "  <tbody>\n",
              "    <tr>\n",
              "      <th>0</th>\n",
              "      <td>0.009000</td>\n",
              "      <td>0.008000</td>\n",
              "      <td>-0.13000</td>\n",
              "      <td>2037.561297</td>\n",
              "      <td>-2.395186e+06</td>\n",
              "    </tr>\n",
              "    <tr>\n",
              "      <th>1</th>\n",
              "      <td>0.009020</td>\n",
              "      <td>0.008020</td>\n",
              "      <td>-0.13101</td>\n",
              "      <td>2055.257952</td>\n",
              "      <td>-2.420137e+06</td>\n",
              "    </tr>\n",
              "    <tr>\n",
              "      <th>2</th>\n",
              "      <td>0.009040</td>\n",
              "      <td>0.008040</td>\n",
              "      <td>-0.13202</td>\n",
              "      <td>2072.968484</td>\n",
              "      <td>-2.445162e+06</td>\n",
              "    </tr>\n",
              "    <tr>\n",
              "      <th>3</th>\n",
              "      <td>0.009061</td>\n",
              "      <td>0.008061</td>\n",
              "      <td>-0.13303</td>\n",
              "      <td>2090.692665</td>\n",
              "      <td>-2.470260e+06</td>\n",
              "    </tr>\n",
              "    <tr>\n",
              "      <th>4</th>\n",
              "      <td>0.009081</td>\n",
              "      <td>0.008081</td>\n",
              "      <td>-0.13404</td>\n",
              "      <td>2108.430268</td>\n",
              "      <td>-2.495431e+06</td>\n",
              "    </tr>\n",
              "  </tbody>\n",
              "</table>\n",
              "</div>"
            ],
            "text/plain": [
              "     R_stat     R_rot        s           It         P_gap\n",
              "0  0.009000  0.008000 -0.13000  2037.561297 -2.395186e+06\n",
              "1  0.009020  0.008020 -0.13101  2055.257952 -2.420137e+06\n",
              "2  0.009040  0.008040 -0.13202  2072.968484 -2.445162e+06\n",
              "3  0.009061  0.008061 -0.13303  2090.692665 -2.470260e+06\n",
              "4  0.009081  0.008081 -0.13404  2108.430268 -2.495431e+06"
            ]
          },
          "metadata": {
            "tags": []
          },
          "execution_count": 32
        }
      ]
    },
    {
      "cell_type": "code",
      "metadata": {
        "id": "cd7QRl3RTHKA",
        "colab_type": "code",
        "colab": {
          "base_uri": "https://localhost:8080/",
          "height": 68
        },
        "outputId": "ad6a9643-59bd-4e6d-863b-90e915f9e28b"
      },
      "source": [
        "data = df_results.values\n",
        "scaler = StandardScaler()\n",
        "print(scaler.fit(data))\n",
        "\n",
        "print(scaler.mean_)\n",
        "\n",
        "data_rescaled = scaler.transform(data)\n",
        "df_results_rescaled = pd.DataFrame(data=data_rescaled, columns=df_results.columns)"
      ],
      "execution_count": 33,
      "outputs": [
        {
          "output_type": "stream",
          "text": [
            "StandardScaler(copy=True, with_mean=True, with_std=True)\n",
            "[ 1.00000000e-02  9.00000000e-03 -1.80000000e-01  2.92873437e+03\n",
            " -3.73424009e+06]\n"
          ],
          "name": "stdout"
        }
      ]
    },
    {
      "cell_type": "markdown",
      "metadata": {
        "id": "jRCWCI_hSILv",
        "colab_type": "text"
      },
      "source": [
        "### Show Results $P_{gap}$"
      ]
    },
    {
      "cell_type": "code",
      "metadata": {
        "id": "b0P9-K36S_Lp",
        "colab_type": "code",
        "colab": {}
      },
      "source": [
        "# g = sns.pairplot(df_results_rescaled, diag_kind=\"kde\", markers=\"+\", \\\n",
        "#    plot_kws=dict(s=50, edgecolor=\"b\", linewidth=1), \\\n",
        "#    diag_kws=dict(shade=True))"
      ],
      "execution_count": 34,
      "outputs": []
    },
    {
      "cell_type": "code",
      "metadata": {
        "id": "X8JsZ2GGTBjT",
        "colab_type": "code",
        "colab": {}
      },
      "source": [
        " # g = sns.pairplot(df_results_rescaled, kind=\"reg\")"
      ],
      "execution_count": 35,
      "outputs": []
    },
    {
      "cell_type": "code",
      "metadata": {
        "id": "Dp_rfGb-TDnl",
        "colab_type": "code",
        "colab": {}
      },
      "source": [
        "# g = sns.pairplot(df_results_rescaled, corner=True)"
      ],
      "execution_count": 36,
      "outputs": []
    },
    {
      "cell_type": "markdown",
      "metadata": {
        "id": "7HpQl66mYKll",
        "colab_type": "text"
      },
      "source": [
        "### Compute $P_{CEB}$, $P_{jsta}$, and $P_{jrot}$"
      ]
    },
    {
      "cell_type": "code",
      "metadata": {
        "id": "goyABTpPYX9v",
        "colab_type": "code",
        "colab": {}
      },
      "source": [
        ""
      ],
      "execution_count": 36,
      "outputs": []
    },
    {
      "cell_type": "markdown",
      "metadata": {
        "id": "4l5IG7T_YYUb",
        "colab_type": "text"
      },
      "source": [
        "### Show Results $P_{CEB}$, $P_{jsta}$, and $P_{jrot}$"
      ]
    },
    {
      "cell_type": "code",
      "metadata": {
        "id": "dpU-h7ZZYihJ",
        "colab_type": "code",
        "colab": {}
      },
      "source": [
        ""
      ],
      "execution_count": 36,
      "outputs": []
    },
    {
      "cell_type": "markdown",
      "metadata": {
        "id": "Dl_kJZ6SYf_x",
        "colab_type": "text"
      },
      "source": [
        "### More Analyses"
      ]
    },
    {
      "cell_type": "code",
      "metadata": {
        "id": "HmE5VBRFYjZ6",
        "colab_type": "code",
        "colab": {}
      },
      "source": [
        ""
      ],
      "execution_count": 36,
      "outputs": []
    },
    {
      "cell_type": "markdown",
      "metadata": {
        "id": "VFM9RXjQYjxr",
        "colab_type": "text"
      },
      "source": [
        "## References"
      ]
    }
  ]
}